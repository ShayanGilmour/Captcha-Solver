{
 "cells": [
  {
   "cell_type": "code",
   "execution_count": 2,
   "metadata": {},
   "outputs": [
    {
     "ename": "ModuleNotFoundError",
     "evalue": "No module named 'keras'",
     "output_type": "error",
     "traceback": [
      "\u001b[0;31m---------------------------------------------------------------------------\u001b[0m",
      "\u001b[0;31mModuleNotFoundError\u001b[0m                       Traceback (most recent call last)",
      "\u001b[0;32m<ipython-input-2-44b0dee21f28>\u001b[0m in \u001b[0;36m<module>\u001b[0;34m\u001b[0m\n\u001b[1;32m      6\u001b[0m \u001b[0;32mimport\u001b[0m \u001b[0mos\u001b[0m\u001b[0;34m\u001b[0m\u001b[0;34m\u001b[0m\u001b[0m\n\u001b[1;32m      7\u001b[0m \u001b[0;34m\u001b[0m\u001b[0m\n\u001b[0;32m----> 8\u001b[0;31m \u001b[0;32mfrom\u001b[0m \u001b[0mkeras\u001b[0m \u001b[0;32mimport\u001b[0m \u001b[0mlayers\u001b[0m\u001b[0;34m\u001b[0m\u001b[0;34m\u001b[0m\u001b[0m\n\u001b[0m\u001b[1;32m      9\u001b[0m \u001b[0;32mfrom\u001b[0m \u001b[0mkeras\u001b[0m\u001b[0;34m.\u001b[0m\u001b[0mmodels\u001b[0m \u001b[0;32mimport\u001b[0m \u001b[0mModel\u001b[0m\u001b[0;34m\u001b[0m\u001b[0;34m\u001b[0m\u001b[0m\n\u001b[1;32m     10\u001b[0m \u001b[0;32mfrom\u001b[0m \u001b[0mkeras\u001b[0m\u001b[0;34m.\u001b[0m\u001b[0mmodels\u001b[0m \u001b[0;32mimport\u001b[0m \u001b[0mload_model\u001b[0m\u001b[0;34m\u001b[0m\u001b[0;34m\u001b[0m\u001b[0m\n",
      "\u001b[0;31mModuleNotFoundError\u001b[0m: No module named 'keras'"
     ]
    }
   ],
   "source": [
    "import numpy as np\n",
    "import pandas as pd\n",
    "\n",
    "%matplotlib inline \n",
    "import matplotlib.pyplot as plt\n",
    "import os\n",
    "\n",
    "from keras import layers\n",
    "from keras.models import Model\n",
    "from keras.models import load_model\n",
    "from keras import callbacks\n",
    "import os\n",
    "import cv2\n",
    "import string\n",
    "import numpy as np\n",
    "\n",
    "import copy\n",
    "\n",
    "symbols = \"0123456789\"\n",
    "numSymbols = len(symbols)\n",
    "imgShape = (40, 20, 1)"
   ]
  },
  {
   "cell_type": "code",
   "execution_count": 4,
   "metadata": {},
   "outputs": [],
   "source": [
    "def create_model():\n",
    "    \n",
    "    img = layers.Input(shape=imgShape)\n",
    "    \n",
    "    conv1 = layers.Conv2D(16, (3, 3), padding='same', activation='relu')(img)\n",
    "    maxP1 = layers.MaxPooling2D(padding='same')(conv1)  #20x10\n",
    "    \n",
    "    conv2 = layers.Conv2D(32, (3, 3), padding='same', activation='relu')(maxP1)\n",
    "    maxP2 = layers.MaxPooling2D(padding='same')(conv2)  #10x5\n",
    "    \n",
    "    conv3 = layers.Conv2D(32, (3, 3), padding='same', activation='relu')(maxP2)\n",
    "    batchNorm = layers.BatchNormalization()(conv3)\n",
    "    maxP3 = layers.MaxPooling2D(padding='same')(batchNorm)  #5x3\n",
    "    \n",
    "    flat = layers.Flatten()(maxP3)\n",
    "    outs = []\n",
    "    \n",
    "    dens1 = layers.Dense(64, activation='relu')(flat)\n",
    "    drop1 = layers.Dropout(0.2)(dens1)\n",
    "    dens2 = layers.Dense(64, activation='relu')(drop1)\n",
    "    drop2 = layers.Dropout(0.09)(dens2)\n",
    "    dens3 = layers.Dense(64, activation='relu')(drop2)\n",
    "    drop3 = layers.Dropout(0.06)(dens3)\n",
    "    res = layers.Dense(numSymbols, activation='sigmoid')(drop3)\n",
    "\n",
    "    outs.append(res)\n",
    "    \n",
    "    model = Model(img, outs)\n",
    "    model.compile(loss='categorical_crossentropy', optimizer='sgd',metrics=[\"accuracy\"])\n",
    "    \n",
    "    return model"
   ]
  },
  {
   "cell_type": "code",
   "execution_count": 5,
   "metadata": {},
   "outputs": [
    {
     "name": "stdout",
     "output_type": "stream",
     "text": [
      "34009\n"
     ]
    }
   ],
   "source": [
    "def preprocess_data():\n",
    "    \n",
    "    numSamples = len(os.listdir('Desktop/digitSamples4'))\n",
    "    print(numSamples)\n",
    "    X = np.zeros((numSamples, 40, 20, 1))\n",
    "    y = np.zeros((1, numSamples, numSymbols))\n",
    "\n",
    "    for i, pic in enumerate(os.listdir('Desktop/digitSamples4')):\n",
    "        img = cv2.imread(os.path.join('Desktop/digitSamples4', pic), cv2.IMREAD_GRAYSCALE)\n",
    "        picAns = pic[-5]\n",
    "        if len(picAns) < 6:\n",
    "\n",
    "            img = img / 255.0\n",
    "            img = np.reshape(img, (40, 20, 1))\n",
    "            \n",
    "            #One Hot Encoding\n",
    "            targs = np.zeros(numSymbols)\n",
    "\n",
    "            ind = symbols.find(picAns[0])\n",
    "            targs[ind] = 1\n",
    "            \n",
    "            X[i] = img\n",
    "            y[:, i] = targs\n",
    "    \n",
    "    return X, y\n",
    "\n",
    "numSamples = len(os.listdir('Desktop/digitSamples4'))\n",
    "nsamp = numSamples - 200;\n",
    "\n",
    "X, y = preprocess_data()\n",
    "X_train, y_train = X[:nsamp], y[:, :nsamp]\n",
    "X_test, y_test = X[nsamp:], y[:, nsamp:]"
   ]
  },
  {
   "cell_type": "code",
   "execution_count": 6,
   "metadata": {},
   "outputs": [
    {
     "name": "stdout",
     "output_type": "stream",
     "text": [
      "Model: \"model_1\"\n",
      "_________________________________________________________________\n",
      "Layer (type)                 Output Shape              Param #   \n",
      "=================================================================\n",
      "input_1 (InputLayer)         (None, 40, 20, 1)         0         \n",
      "_________________________________________________________________\n",
      "conv2d_1 (Conv2D)            (None, 40, 20, 16)        160       \n",
      "_________________________________________________________________\n",
      "max_pooling2d_1 (MaxPooling2 (None, 20, 10, 16)        0         \n",
      "_________________________________________________________________\n",
      "conv2d_2 (Conv2D)            (None, 20, 10, 32)        4640      \n",
      "_________________________________________________________________\n",
      "max_pooling2d_2 (MaxPooling2 (None, 10, 5, 32)         0         \n",
      "_________________________________________________________________\n",
      "conv2d_3 (Conv2D)            (None, 10, 5, 32)         9248      \n",
      "_________________________________________________________________\n",
      "batch_normalization_1 (Batch (None, 10, 5, 32)         128       \n",
      "_________________________________________________________________\n",
      "max_pooling2d_3 (MaxPooling2 (None, 5, 3, 32)          0         \n",
      "_________________________________________________________________\n",
      "flatten_1 (Flatten)          (None, 480)               0         \n",
      "_________________________________________________________________\n",
      "dense_1 (Dense)              (None, 64)                30784     \n",
      "_________________________________________________________________\n",
      "dropout_1 (Dropout)          (None, 64)                0         \n",
      "_________________________________________________________________\n",
      "dense_2 (Dense)              (None, 64)                4160      \n",
      "_________________________________________________________________\n",
      "dropout_2 (Dropout)          (None, 64)                0         \n",
      "_________________________________________________________________\n",
      "dense_3 (Dense)              (None, 64)                4160      \n",
      "_________________________________________________________________\n",
      "dropout_3 (Dropout)          (None, 64)                0         \n",
      "_________________________________________________________________\n",
      "dense_4 (Dense)              (None, 10)                650       \n",
      "=================================================================\n",
      "Total params: 53,930\n",
      "Trainable params: 53,866\n",
      "Non-trainable params: 64\n",
      "_________________________________________________________________\n"
     ]
    }
   ],
   "source": [
    "model=create_model();\n",
    "model.summary();"
   ]
  },
  {
   "cell_type": "code",
   "execution_count": 7,
   "metadata": {
    "scrolled": true
   },
   "outputs": [
    {
     "name": "stdout",
     "output_type": "stream",
     "text": [
      "Train on 27047 samples, validate on 6762 samples\n",
      "Epoch 1/30\n",
      "27047/27047 [==============================] - 14s 534us/step - loss: 1.8894 - accuracy: 0.3196 - val_loss: 1.6726 - val_accuracy: 0.3937\n",
      "Epoch 2/30\n",
      "27047/27047 [==============================] - 14s 533us/step - loss: 0.9349 - accuracy: 0.6770 - val_loss: 0.6090 - val_accuracy: 0.8069\n",
      "Epoch 3/30\n",
      "27047/27047 [==============================] - 17s 616us/step - loss: 0.6180 - accuracy: 0.7930 - val_loss: 0.5451 - val_accuracy: 0.8169\n",
      "Epoch 4/30\n",
      "27047/27047 [==============================] - 15s 560us/step - loss: 0.4976 - accuracy: 0.8347 - val_loss: 0.9385 - val_accuracy: 0.7038\n",
      "Epoch 5/30\n",
      "27047/27047 [==============================] - 16s 574us/step - loss: 0.4175 - accuracy: 0.8621 - val_loss: 0.3931 - val_accuracy: 0.8671\n",
      "Epoch 6/30\n",
      "27047/27047 [==============================] - 12s 448us/step - loss: 0.3606 - accuracy: 0.8803 - val_loss: 0.2915 - val_accuracy: 0.9014\n",
      "Epoch 7/30\n",
      "27047/27047 [==============================] - 16s 589us/step - loss: 0.3263 - accuracy: 0.8916 - val_loss: 0.3197 - val_accuracy: 0.8937\n",
      "Epoch 8/30\n",
      "27047/27047 [==============================] - 15s 558us/step - loss: 0.2928 - accuracy: 0.9044 - val_loss: 0.3805 - val_accuracy: 0.8747\n",
      "Epoch 9/30\n",
      "27047/27047 [==============================] - 13s 499us/step - loss: 0.2667 - accuracy: 0.9128 - val_loss: 0.3686 - val_accuracy: 0.8781\n",
      "Epoch 10/30\n",
      "27047/27047 [==============================] - 15s 542us/step - loss: 0.2538 - accuracy: 0.9151 - val_loss: 0.2393 - val_accuracy: 0.9209\n",
      "Epoch 11/30\n",
      "27047/27047 [==============================] - 17s 638us/step - loss: 0.2385 - accuracy: 0.9208 - val_loss: 0.2280 - val_accuracy: 0.9225\n",
      "Epoch 12/30\n",
      "27047/27047 [==============================] - 15s 562us/step - loss: 0.2190 - accuracy: 0.9284 - val_loss: 0.2090 - val_accuracy: 0.9312\n",
      "Epoch 13/30\n",
      "27047/27047 [==============================] - 13s 480us/step - loss: 0.2032 - accuracy: 0.9308 - val_loss: 0.2469 - val_accuracy: 0.9172\n",
      "Epoch 14/30\n",
      "27047/27047 [==============================] - 18s 655us/step - loss: 0.1871 - accuracy: 0.9370 - val_loss: 0.2260 - val_accuracy: 0.9261\n",
      "Epoch 15/30\n",
      "27047/27047 [==============================] - 18s 666us/step - loss: 0.1805 - accuracy: 0.9388 - val_loss: 0.2243 - val_accuracy: 0.9246\n",
      "Epoch 16/30\n",
      "27047/27047 [==============================] - 15s 552us/step - loss: 0.1743 - accuracy: 0.9416 - val_loss: 0.2071 - val_accuracy: 0.9349\n",
      "Epoch 17/30\n",
      "27047/27047 [==============================] - 20s 724us/step - loss: 0.1665 - accuracy: 0.9441 - val_loss: 0.1904 - val_accuracy: 0.9376\n",
      "Epoch 18/30\n",
      "27047/27047 [==============================] - 18s 667us/step - loss: 0.1559 - accuracy: 0.9474 - val_loss: 0.1852 - val_accuracy: 0.9391\n",
      "Epoch 19/30\n",
      "27047/27047 [==============================] - 17s 631us/step - loss: 0.1484 - accuracy: 0.9494 - val_loss: 0.4692 - val_accuracy: 0.8668\n",
      "Epoch 20/30\n",
      "27047/27047 [==============================] - 17s 643us/step - loss: 0.1435 - accuracy: 0.9510 - val_loss: 0.2174 - val_accuracy: 0.9335\n",
      "Epoch 21/30\n",
      "27047/27047 [==============================] - 13s 477us/step - loss: 0.1343 - accuracy: 0.9547 - val_loss: 0.2044 - val_accuracy: 0.9363\n",
      "Epoch 22/30\n",
      "27047/27047 [==============================] - 14s 505us/step - loss: 0.1317 - accuracy: 0.9562 - val_loss: 0.1922 - val_accuracy: 0.9403\n",
      "Epoch 23/30\n",
      "27047/27047 [==============================] - 16s 609us/step - loss: 0.1273 - accuracy: 0.9571 - val_loss: 0.1859 - val_accuracy: 0.9395\n",
      "Epoch 24/30\n",
      "27047/27047 [==============================] - 17s 636us/step - loss: 0.1211 - accuracy: 0.9576 - val_loss: 0.4337 - val_accuracy: 0.8869\n",
      "Epoch 25/30\n",
      "27047/27047 [==============================] - 14s 527us/step - loss: 0.1170 - accuracy: 0.9598 - val_loss: 0.2130 - val_accuracy: 0.9361\n",
      "Epoch 26/30\n",
      "27047/27047 [==============================] - 16s 609us/step - loss: 0.1100 - accuracy: 0.9623 - val_loss: 0.1841 - val_accuracy: 0.9420\n",
      "Epoch 27/30\n",
      "27047/27047 [==============================] - 17s 642us/step - loss: 0.1051 - accuracy: 0.9640 - val_loss: 0.1906 - val_accuracy: 0.9391\n",
      "Epoch 28/30\n",
      "27047/27047 [==============================] - 14s 529us/step - loss: 0.1031 - accuracy: 0.9652 - val_loss: 0.1727 - val_accuracy: 0.9454\n",
      "Epoch 29/30\n",
      "27047/27047 [==============================] - 15s 570us/step - loss: 0.0951 - accuracy: 0.9670 - val_loss: 0.4694 - val_accuracy: 0.8765\n",
      "Epoch 30/30\n",
      "27047/27047 [==============================] - 19s 706us/step - loss: 0.0940 - accuracy: 0.9674 - val_loss: 0.2127 - val_accuracy: 0.9388\n"
     ]
    }
   ],
   "source": [
    "hist = model.fit(X_train, y_train[0], batch_size=32, epochs=30,verbose=1, validation_split=0.2)"
   ]
  },
  {
   "cell_type": "code",
   "execution_count": 8,
   "metadata": {},
   "outputs": [],
   "source": [
    "def predict(img):\n",
    "\n",
    "    if img is not None:\n",
    "        img = img / 255.0\n",
    "\n",
    "        \n",
    "    res = np.array(model.predict(img[np.newaxis, :, :, np.newaxis]))\n",
    "    ans = np.reshape(res, (1, numSymbols))\n",
    "    l_ind = []\n",
    "    probs = []\n",
    "    \n",
    "    for a in ans:\n",
    "        l_ind.append(np.argmax(a))\n",
    "        #probs.append(np.max(a))\n",
    "\n",
    "    cap = ''\n",
    "    for l in l_ind:\n",
    "        cap += symbols[l]\n",
    "    return cap#, sum(probs) / 5"
   ]
  },
  {
   "cell_type": "code",
   "execution_count": 9,
   "metadata": {},
   "outputs": [],
   "source": [
    "def reduceNoise(A, charNum = 1):\n",
    "    \n",
    "    cnt = 0\n",
    "    st = 0\n",
    "    en = 255\n",
    "    mid = 0\n",
    "\n",
    "    while en-st > 1:\n",
    "        B = copy.deepcopy(A)\n",
    "        mid = (st+en)//2\n",
    "        cnt = 0\n",
    "\n",
    "        for i in range(B.shape[0]):            #Binary Search for finding best solution\n",
    "            for j in range (B.shape[1]):\n",
    "                B[i][j] = int(B[i][j])\n",
    "                if B[i][j] > mid:\n",
    "                    B[i][j] = 255\n",
    "                if B[i][j] != 255:\n",
    "                    B[i][j] = 0\n",
    "                    cnt += 1\n",
    "\n",
    "        if (cnt < int(140*charNum)):\n",
    "            st = mid\n",
    "        else:\n",
    "            en = mid\n",
    "\n",
    "    return B"
   ]
  },
  {
   "cell_type": "code",
   "execution_count": 95,
   "metadata": {},
   "outputs": [
    {
     "name": "stdout",
     "output_type": "stream",
     "text": [
      "200/200 [==============================] - 0s 613us/step\n",
      "5\n"
     ]
    },
    {
     "data": {
      "image/png": "[encoded data removed]",
      "text/plain": [
       "<Figure size 432x288 with 1 Axes>"
      ]
     },
     "metadata": {
      "needs_background": "light"
     },
     "output_type": "display_data"
    }
   ],
   "source": [
    "model.evaluate(X_test, y_test[0])\n",
    "\n",
    "A=plt.imread('Desktop/a4.png')\n",
    "A.shape\n",
    "A = np.array(A)\n",
    "A = A*255\n",
    "\n",
    "A = cv2.resize(A[:, :, 0], dsize=(20, 40), interpolation=cv2.INTER_CUBIC)\n",
    "A = reduceNoise(A)\n",
    "plt.imshow(A, cmap='gray')\n",
    "\n",
    "print(predict(A))"
   ]
  },
  {
   "cell_type": "code",
   "execution_count": 11,
   "metadata": {},
   "outputs": [],
   "source": [
    "def density(A, a, b):\n",
    "    \n",
    "    dens = 0\n",
    "    tmp = 0\n",
    "    \n",
    "    for i in range(b):\n",
    "        tmp = 0\n",
    "        \n",
    "        j = 0;\n",
    "        while (j < 40):\n",
    "            if (A[j, a] == 255):\n",
    "                dens += tmp\n",
    "                tmp = 0\n",
    "                j += 1\n",
    "                continue\n",
    "            while (j < 40 and A[j, a+i] != 255):\n",
    "                j+= 1\n",
    "                tmp += 1\n",
    "            j+=1\n",
    "               \n",
    "    return dens\n",
    "\n",
    "\n",
    "def density2(A, a):\n",
    "    dens = 0\n",
    "    tmp = 0\n",
    "       \n",
    "    j = 0;\n",
    "    while (j < 40):\n",
    "        if (A[j, a] == 255):\n",
    "            dens += tmp*tmp*tmp\n",
    "            tmp = 0\n",
    "            j += 1\n",
    "            continue\n",
    "        while (j < 40 and A[j, a] != 255):\n",
    "            j+= 1\n",
    "            tmp += 1\n",
    "        j+=1\n",
    "            \n",
    "    return dens\n",
    "\n",
    "\n",
    "def empty(A, a):\n",
    "    \n",
    "    cnt = 0\n",
    "\n",
    "    for i in range(40):\n",
    "        for j in range(5):\n",
    "            if (A[i, a+j] == 255):\n",
    "                cnt+=1\n",
    "            \n",
    "    return cnt*cnt"
   ]
  },
  {
   "cell_type": "code",
   "execution_count": 101,
   "metadata": {
    "scrolled": false
   },
   "outputs": [
    {
     "name": "stdout",
     "output_type": "stream",
     "text": [
      "LEN 5\n"
     ]
    },
    {
     "data": {
      "image/png": "[encoded data removed]",
      "text/plain": [
       "<Figure size 432x288 with 1 Axes>"
      ]
     },
     "metadata": {
      "needs_background": "light"
     },
     "output_type": "display_data"
    },
    {
     "data": {
      "image/png": "[encoded data removed]",
      "text/plain": [
       "<Figure size 576x216 with 6 Axes>"
      ]
     },
     "metadata": {
      "needs_background": "light"
     },
     "output_type": "display_data"
    }
   ],
   "source": [
    "def splitDigit(filepath):\n",
    "    \"Splits the image into digits and puts in a list and return it\"\n",
    "    \n",
    "    A=plt.imread(filepath)\n",
    "    A.shape\n",
    "    A = np.array(A)\n",
    "    A = A*255\n",
    "    A = cv2.resize(A[:, :, 0], dsize=((40*A.shape[1])//A.shape[0], 40), interpolation=cv2.INTER_CUBIC)\n",
    "    A = reduceNoise(A, 3)\n",
    "    plt.imshow(A, cmap='gray')\n",
    "    \n",
    "    l = []\n",
    "    \n",
    "    flag = False\n",
    "    left, right = 0, 0\n",
    "\n",
    "    i = 0\n",
    "    while i < A.shape[1]-5:\n",
    "        \n",
    "        M = density2(A, i)*density(A, i, 5);\n",
    "        #print (\"D d M i\", density2(A, i), density(A, i, 5), \"   \", M, i)\n",
    "        i+=1\n",
    "        \n",
    "        if flag == False:\n",
    "            \n",
    "            if M > 50:\n",
    "                left = i-1;\n",
    "                flag = True;\n",
    "                i += 10;\n",
    "                continue\n",
    "            \n",
    "        if flag == True:\n",
    "\n",
    "            if (i-left > 19):\n",
    "                right = i;\n",
    "                flag = False;\n",
    "                l.append(A[:, left-1:right])\n",
    "                \n",
    "            elif (M < 50):\n",
    "                \"\"\"or (i-left > 18)\"\"\"\n",
    "                right = i\n",
    "                flag = False;\n",
    "                l.append(A[:, left-1:right])\n",
    "                \n",
    "                \n",
    "            elif empty(A, i) > 28900:\n",
    "                while i < A.shape[1]-5 and empty(A, i) > 28900 and i-left < 20:\n",
    "                    i+=1\n",
    "                right = i\n",
    "                flag = False;\n",
    "                l.append(A[:, left:right])\n",
    "                \n",
    "        i+=1\n",
    "            \n",
    "    return l\n",
    "\n",
    "l = splitDigit('Desktop/cap1.png')\n",
    "print(\"LEN\", len(l))\n",
    "f , sub = plt.subplots(1,6)\n",
    "f.set_size_inches(8, 3)\n",
    "for i in range(len(l)):\n",
    "    sub[i].imshow(l[i], cmap='gray')"
   ]
  },
  {
   "cell_type": "code",
   "execution_count": 110,
   "metadata": {},
   "outputs": [
    {
     "name": "stdout",
     "output_type": "stream",
     "text": [
      "LEN 5\n"
     ]
    },
    {
     "data": {
      "text/plain": [
       "'99131'"
      ]
     },
     "execution_count": 110,
     "metadata": {},
     "output_type": "execute_result"
    },
    {
     "data": {
      "image/png": "[encoded data removed]",
      "text/plain": [
       "<Figure size 432x288 with 1 Axes>"
      ]
     },
     "metadata": {
      "needs_background": "light"
     },
     "output_type": "display_data"
    },
    {
     "data": {
      "image/png": "[encoded data removed]",
      "text/plain": [
       "<Figure size 576x216 with 9 Axes>"
      ]
     },
     "metadata": {
      "needs_background": "light"
     },
     "output_type": "display_data"
    }
   ],
   "source": [
    "def predictCap(filepath):\n",
    "    \n",
    "    img = cv2.imread(filepath, cv2.IMREAD_GRAYSCALE)\n",
    "    img = reduceNoise(img)\n",
    "    l = splitDigit(filepath);\n",
    "    ans = ''\n",
    "    L = []\n",
    "    \n",
    "    for A in l:\n",
    "        B = np.zeros((40, 20))\n",
    "        \n",
    "        for i in range(40):\n",
    "            for j in range(20):\n",
    "                B[i][j] = 255;\n",
    "        \n",
    "        for i in range(min(40, A.shape[0])):\n",
    "            for j in range(min (20, A.shape[1])):\n",
    "                #print(i, j)\n",
    "                B[i][j] = A[i][j];\n",
    "\n",
    "        \n",
    "        ans = ans + predict(B)\n",
    "        L.append(B)\n",
    "    \n",
    "    print(\"LEN\", len(l))\n",
    "    f , sub = plt.subplots(1,9)\n",
    "    f.set_size_inches(8, 3)\n",
    "    for i in range(len(L)):\n",
    "        sub[i].imshow(L[i], cmap='gray')\n",
    "        \n",
    "    for i in range(len(L)):\n",
    "        plt.imsave(('Desktop/digit' + str(i+1) +'.png'), L[i], cmap = 'gray' )\n",
    "    \n",
    "    return ans\n",
    "\n",
    "predictCap('Desktop/cap1.png')"
   ]
  },
  {
   "cell_type": "code",
   "execution_count": null,
   "metadata": {},
   "outputs": [],
   "source": []
  },
  {
   "cell_type": "code",
   "execution_count": null,
   "metadata": {},
   "outputs": [],
   "source": [
    "import captcha\n",
    "from captcha.image import ImageCaptcha\n",
    "\n",
    "ImageCaptcha(fonts = ['Desktop/b.ttf']).write('2', 'Desktop/out.png')"
   ]
  },
  {
   "cell_type": "code",
   "execution_count": null,
   "metadata": {},
   "outputs": [],
   "source": [
    "from claptcha import Claptcha\n",
    "c = Claptcha(\"1\", \"Desktop/font2.ttf\", noise=0)\n",
    "\n",
    "text, img = c.image\n",
    "img = np.array(img)\n",
    "\n",
    "img = img[10:130,10:150,:]\n",
    "res = cv2.resize(img, dsize=(20, 40), interpolation=cv2.INTER_CUBIC)\n",
    "\n",
    "plt.imshow(res)\n",
    "#print(res[:,:,0])\n",
    "print(res.shape)\n",
    "plt.imshow(res[:,:,0], cmap='gray')\n",
    "#print(\"ASASDASDASD\")\n",
    "\"\"\"\n",
    "for i in range(res.shape[0]):\n",
    "    for j in range (res.shape[1]):\n",
    "        if res[i][j][0] > 120:\n",
    "            res[i][j][0] = 255\n",
    "        if res[i][j][0] != 255:\n",
    "            res[i][j][0] = 0\n",
    "#print(res[:,:,0])\n",
    "cnt = 0;\n",
    "for i in range(res.shape[0]):\n",
    "    for j in range (res.shape[1]):\n",
    "        if res[i][j][0] == 0:\n",
    "            cnt += 1\n",
    "\"\"\"\n",
    "print(cnt) # must be more than 49\n",
    "plt.imshow(res[:,:,0], cmap='gray')\n",
    "\n",
    "#print(res)"
   ]
  },
  {
   "cell_type": "code",
   "execution_count": 1,
   "metadata": {},
   "outputs": [
    {
     "ename": "ModuleNotFoundError",
     "evalue": "No module named 'claptcha'",
     "output_type": "error",
     "traceback": [
      "\u001b[0;31m---------------------------------------------------------------------------\u001b[0m",
      "\u001b[0;31mModuleNotFoundError\u001b[0m                       Traceback (most recent call last)",
      "\u001b[0;32m<ipython-input-1-d73f97db4f72>\u001b[0m in \u001b[0;36m<module>\u001b[0;34m\u001b[0m\n\u001b[1;32m      2\u001b[0m \u001b[0;34m\u001b[0m\u001b[0m\n\u001b[1;32m      3\u001b[0m \u001b[0;32mfrom\u001b[0m \u001b[0mrandom\u001b[0m \u001b[0;32mimport\u001b[0m \u001b[0mrandom\u001b[0m\u001b[0;34m\u001b[0m\u001b[0;34m\u001b[0m\u001b[0m\n\u001b[0;32m----> 4\u001b[0;31m \u001b[0;32mfrom\u001b[0m \u001b[0mclaptcha\u001b[0m \u001b[0;32mimport\u001b[0m \u001b[0mClaptcha\u001b[0m\u001b[0;34m\u001b[0m\u001b[0;34m\u001b[0m\u001b[0m\n\u001b[0m\u001b[1;32m      5\u001b[0m \u001b[0;32mimport\u001b[0m \u001b[0mos\u001b[0m\u001b[0;34m.\u001b[0m\u001b[0mpath\u001b[0m\u001b[0;34m\u001b[0m\u001b[0;34m\u001b[0m\u001b[0m\n\u001b[1;32m      6\u001b[0m \u001b[0;34m\u001b[0m\u001b[0m\n",
      "\u001b[0;31mModuleNotFoundError\u001b[0m: No module named 'claptcha'"
     ]
    }
   ],
   "source": [
    "#Creating Dataset for Digits\n",
    "\n",
    "from random import random\n",
    "from claptcha import Claptcha\n",
    "import os.path\n",
    "\n",
    "sfed = [50, 50, 70, 50, 60, 50, 50, 50, 60, 70] #Samples for each digit\n",
    "sfed = [10, 10, 20, 10, 15, 10, 10, 10, 15, 20]\n",
    "sfed = [70, 80, 80, 70, 70, 70, 70, 70, 70, 80]\n",
    "sfed = [100, 100, 100, 100, 100, 100, 100, 100, 100, 100]\n",
    "#sfed = [10, 10, 20, 10, 15, 10, 10, 10, 15, 20]\n",
    "for fontNum in range(1, 33):\n",
    "    print(\"font num:\", fontNum)\n",
    "    \n",
    "    \n",
    "    if (i == 1 or ((i>=4) and (i<=7)) or i == 16):\n",
    "        continue\n",
    "    \n",
    "    num = 0\n",
    "    for char in range(10):\n",
    "\n",
    "        num = 0\n",
    "\n",
    "        while (num < sfed[char]):\n",
    "            \n",
    "            if os.path.exists('Desktop/fonts/font' + str(fontNum) +'.ttf'):\n",
    "                c = Claptcha(str(char), \"Desktop/fonts/font\" + str(fontNum) + \".ttf\", noise=0.3)\n",
    "            else:\n",
    "                c = Claptcha(str(char), \"Desktop/fonts/font\" + str(fontNum) + \".otf\", noise=0.3)\n",
    "\n",
    "            text, img = c.image\n",
    "            img = np.array(img)\n",
    "\n",
    "            img = img[10:130,10:150,:]\n",
    "            res = cv2.resize(img, dsize=(20, 40), interpolation=cv2.INTER_CUBIC)\n",
    "\n",
    "            plt.imshow(res)\n",
    "\n",
    "            cnt = 0\n",
    "            for i in range(res.shape[0]):\n",
    "                for j in range (res.shape[1]):\n",
    "                    if res[i][j][0] > 120:\n",
    "                        res[i][j][0] = 255\n",
    "                    if res[i][j][0] != 255:\n",
    "                        res[i][j][0] = 0\n",
    "                        t = random();\n",
    "                        t*=100;\n",
    "                        t = t//1\n",
    "                        if (t%4 == 0):\n",
    "                            res[i][j] == 255;\n",
    "                        cnt += 1\n",
    "\n",
    "            if (cnt < 50):\n",
    "                num+=1\n",
    "                continue;\n",
    "\n",
    "            num += 1;\n",
    "\n",
    "            plt.imshow(res[:,:,0], cmap='gray')\n",
    "            cv2.imwrite(('Desktop/digitSamples4/'+'4'+str(10+fontNum)+str(100+num)+str(char)+'.png'), res[:,:,0])"
   ]
  },
  {
   "cell_type": "code",
   "execution_count": null,
   "metadata": {},
   "outputs": [],
   "source": []
  }
 ],
 "metadata": {
  "kernelspec": {
   "display_name": "Python 3",
   "language": "python",
   "name": "python3"
  },
  "language_info": {
   "codemirror_mode": {
    "name": "ipython",
    "version": 3
   },
   "file_extension": ".py",
   "mimetype": "text/x-python",
   "name": "python",
   "nbconvert_exporter": "python",
   "pygments_lexer": "ipython3",
   "version": "3.8.10"
  }
 },
 "nbformat": 4,
 "nbformat_minor": 4
}
